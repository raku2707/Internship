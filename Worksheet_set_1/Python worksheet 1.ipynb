{
 "cells": [
  {
   "cell_type": "markdown",
   "id": "8c5dcb37",
   "metadata": {},
   "source": [
    "# Q11 and Q15 are programming questions.\n",
    "\n",
    "\n",
    "11. **[Write a python program to find the factorial of a number](#pythonprogram)**\n",
    "\n",
    "12. **[Write a python program to find whether a number is prime or composite](#findwhether)**\n",
    "\n",
    "13. **[Write a python program to check whether a given string is palindrome or not](#checkwhether)**\n",
    "\n",
    "14. **[Write a Python program to get the third side of right-angled triangle from two given sides](#rightangletriangle)**\n",
    "\n",
    "15. **[Write a python program to print the frequency of each of the characters present in a given string](#printthefrequency)**\n"
   ]
  },
  {
   "cell_type": "markdown",
   "id": "abca64df",
   "metadata": {},
   "source": [
    "<a id=\"pythonprogram\"> </a>\n",
    "## 11. Write a python program to find the factorial of a number"
   ]
  },
  {
   "cell_type": "code",
   "execution_count": 1,
   "id": "3291b635",
   "metadata": {},
   "outputs": [
    {
     "name": "stdout",
     "output_type": "stream",
     "text": [
      "Enter the number : 5\n",
      " The Factorial of  0  is  120\n"
     ]
    }
   ],
   "source": [
    "#Python program to find the factorial of a number\n",
    "\n",
    "num = int(input(\"Enter the number : \"))\n",
    "fact = 1\n",
    "\n",
    "while num>0:\n",
    "    fact=fact*num\n",
    "    num = num - 1\n",
    "\n",
    "print(\" The Factorial of \",num,\" is \", fact)"
   ]
  },
  {
   "cell_type": "markdown",
   "id": "a4a44bcb",
   "metadata": {},
   "source": [
    "<a id=\"findwhether\"> </a>\n",
    "## 12. Write a python program to find whether a number is prime or composite"
   ]
  },
  {
   "cell_type": "code",
   "execution_count": 2,
   "id": "5fcdcf36",
   "metadata": {},
   "outputs": [
    {
     "name": "stdout",
     "output_type": "stream",
     "text": [
      "Enter the number : 5\n",
      "Its a Prime number : \n"
     ]
    }
   ],
   "source": [
    "#Python program to find whether a number is prime or composite\n",
    "#Prime number :- 2,3,5,7,11,13 etc ( Only two factors for each number )\n",
    "#Composite number :- 4,6,8,9,10,12 etc ( More than two factors for each number )\n",
    "\n",
    "a = int(input(\"Enter the number : \"))\n",
    "count=0\n",
    "i=1\n",
    "\n",
    "while i<=a:\n",
    "    if a%i==0:\n",
    "        count=count+1\n",
    "    i = i+1\n",
    "\n",
    "if count==2:\n",
    "    print(\"Its a Prime number : \")\n",
    "elif count>2:\n",
    "    print(\"Its a composite number : \")\n",
    "else:\n",
    "    print(\"The number is neither Prime or Composite \")"
   ]
  },
  {
   "cell_type": "markdown",
   "id": "e8420cf0",
   "metadata": {},
   "source": [
    "<a id=\"checkwhether\"> </a>\n",
    "## 13. Write a python program to check whether a given string is palindrome or not"
   ]
  },
  {
   "cell_type": "code",
   "execution_count": 3,
   "id": "d28d24ad",
   "metadata": {},
   "outputs": [
    {
     "name": "stdout",
     "output_type": "stream",
     "text": [
      "Enter the string : rakesh\n",
      "This is not a Palindrome String\n"
     ]
    }
   ],
   "source": [
    "#Program to check a string is palindrome or not\n",
    "\n",
    "a = input('Enter the string : ')\n",
    "b = a[-1::-1]\n",
    "\n",
    "if a==b:\n",
    "    print(\"This is a Palindrome String\")\n",
    "    \n",
    "else:\n",
    "    print(\"This is not a Palindrome String\")"
   ]
  },
  {
   "attachments": {
    "image.png": {
     "image/png": "[encoded data removed]"
    }
   },
   "cell_type": "markdown",
   "id": "a006e05f",
   "metadata": {},
   "source": [
    "<a id=\"rightangletriangle\"> </a>\n",
    "## 14. Write a Python program to get the third side of right-angled triangle from two given sides\n",
    "\n",
    "![image.png](attachment:image.png)"
   ]
  },
  {
   "cell_type": "code",
   "execution_count": 4,
   "id": "83b77360",
   "metadata": {},
   "outputs": [
    {
     "name": "stdout",
     "output_type": "stream",
     "text": [
      " Enter the length \n",
      "Side a (\"Height\") is : 15\n",
      "Side b (\"Base\") is : 25\n",
      "The Hypotenuse side  c is :  29.154759474226502\n"
     ]
    }
   ],
   "source": [
    "#Import math and find a third side of right angle traingle\n",
    "from math import sqrt\n",
    "\n",
    "print(\" Enter the length \")\n",
    "\n",
    "a = float(input('Side a (\"Height\") is : '))\n",
    "b = float(input('Side b (\"Base\") is : '))\n",
    "\n",
    "Hypotenuse = sqrt(a**2 + b**2)\n",
    "\n",
    "print(\"The Hypotenuse side  c is : \", Hypotenuse)"
   ]
  },
  {
   "cell_type": "markdown",
   "id": "fa396d33",
   "metadata": {},
   "source": [
    "<a id=\"printthefrequency\"> </a>\n",
    "## 15. Write a python program to print the frequency of each of the characters present in a given string"
   ]
  },
  {
   "cell_type": "code",
   "execution_count": 5,
   "id": "bd9a1701",
   "metadata": {},
   "outputs": [
    {
     "name": "stdout",
     "output_type": "stream",
     "text": [
      " Enter the any string :- Maharashtra\n",
      "{'M': 1, 'a': 4, 'h': 2, 'r': 2, 's': 1, 't': 1}\n"
     ]
    }
   ],
   "source": [
    "#Print the frequency\n",
    "\n",
    "str1 = input(\" Enter the any string :- \")\n",
    "A = dict()\n",
    "\n",
    "for B in str1:\n",
    "    if B in A:\n",
    "        A[B] = A[B] + 1\n",
    "    \n",
    "    else:\n",
    "        A[B] = 1\n",
    "\n",
    "print(A)"
   ]
  },
  {
   "cell_type": "code",
   "execution_count": null,
   "id": "bfdd0851",
   "metadata": {},
   "outputs": [],
   "source": []
  }
 ],
 "metadata": {
  "kernelspec": {
   "display_name": "Python 3 (ipykernel)",
   "language": "python",
   "name": "python3"
  },
  "language_info": {
   "codemirror_mode": {
    "name": "ipython",
    "version": 3
   },
   "file_extension": ".py",
   "mimetype": "text/x-python",
   "name": "python",
   "nbconvert_exporter": "python",
   "pygments_lexer": "ipython3",
   "version": "3.9.12"
  }
 },
 "nbformat": 4,
 "nbformat_minor": 5
}
